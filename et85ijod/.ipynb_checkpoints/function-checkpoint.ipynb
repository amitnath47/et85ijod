{
 "cells": [
  {
   "cell_type": "code",
   "execution_count": null,
   "id": "e3eb4f28",
   "metadata": {},
   "outputs": [],
   "source": [
    "import numpy as np\n",
    "from ipywidgets import interact, fixed\n",
    "from PIL import Image\n",
    "\n",
    "\n",
    "# How can I pass an array to the. interact function?\n",
    "\n",
    "\n",
    "def imshow(X, resize=None):\n",
    "    # def plot_Im(Im, resize):\n",
    "    # Im = Im.resize(resize)\n",
    "    # display(Im)\n",
    "    # resize\n",
    "\n",
    "    Img_1 = Image.fromarray(X)  # bring maximum value to 255, convert to pillow Image\n",
    "    Img_1 = Img_1.resize(resize)\n",
    "    Img_1.show()\n",
    "    return Img_1\n",
    "    # interact(plot_Im(Img_1), resize = (100, 200,1000))"
   ]
  }
 ],
 "metadata": {
  "kernelspec": {
   "display_name": "myvenv",
   "language": "python",
   "name": "myvenv"
  },
  "language_info": {
   "codemirror_mode": {
    "name": "ipython",
    "version": 3
   },
   "file_extension": ".py",
   "mimetype": "text/x-python",
   "name": "python",
   "nbconvert_exporter": "python",
   "pygments_lexer": "ipython3",
   "version": "3.8.8"
  }
 },
 "nbformat": 4,
 "nbformat_minor": 5
}
